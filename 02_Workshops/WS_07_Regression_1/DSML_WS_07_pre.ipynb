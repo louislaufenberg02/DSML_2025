{
 "cells": [
  {
   "cell_type": "markdown",
   "metadata": {},
   "source": [
    "# `DSML_WS_07` - Regression 1"
   ]
  },
  {
   "cell_type": "markdown",
   "metadata": {},
   "source": [
    "Please work on the following tasks **before** the seventh workshop session.\n",
    "\n",
    "*Note*: Because of the double workshop two weeks ago and the scheduling change last week, there are four tasks to prepare for this workshop."
   ]
  },
  {
   "cell_type": "markdown",
   "metadata": {},
   "source": [
    "## 1. Visualizing the Iris dataset"
   ]
  },
  {
   "cell_type": "markdown",
   "metadata": {},
   "source": [
    "Two weeks ago, we learned how to visualize data using Matplotlib and Seaborn. Let us put what we learned together using a familiar dataset: the iris flower dataset.\n",
    "\n",
    "Complete the following steps:\n",
    "1. Read in the `iris.csv` dataset and drop missing data.\n",
    "2. Create a simple scatter plot of the \"number\" and \"Petal.Width\" features. Annotate your graph appropriately.\n",
    "3. You may have noticed some striking patterns emerging from this first plot. So let's dig deeper. Plot Petal.Width vs. Petal.Length on a scatter plot. Colour-code the different species. Hint: You could run `plt.scatter()` for each species and use different colors to differentiate between the species.\n",
    "4. Finally, let us plot a histogram - a common plot type in data science - which shows the number of occurences of a given observation in the sample. **Use the Seaborn library for this**. Plot the Petal.Width feature. Hint: Using the `data=`, `x=` and `hue=` parameters of the `sns.histplot()` function can be very helpful here."
   ]
  },
  {
   "cell_type": "code",
   "execution_count": null,
   "metadata": {},
   "outputs": [],
   "source": [
    "# Task 1: your code here\n"
   ]
  },
  {
   "cell_type": "code",
   "execution_count": null,
   "metadata": {},
   "outputs": [],
   "source": [
    "# Task 2: your code here\n"
   ]
  },
  {
   "cell_type": "code",
   "execution_count": null,
   "metadata": {},
   "outputs": [],
   "source": [
    "# Task 3: your code here\n"
   ]
  },
  {
   "cell_type": "code",
   "execution_count": null,
   "metadata": {},
   "outputs": [],
   "source": [
    "# Task 4: your code here\n"
   ]
  },
  {
   "cell_type": "markdown",
   "metadata": {},
   "source": [
    "## 2. Analyzing speed limit violations in Cologne"
   ]
  },
  {
   "cell_type": "markdown",
   "metadata": {},
   "source": [
    "Two weeks ago, we really got into hands-on data science using carsharing availability data. Let's put what we learned into practice using data on speed limit violations from August 2022 (the provided datasets are based on this publicly available dataset accessible via [this link](https://offenedaten-koeln.de/dataset/geschwindigkeitsueberwachung-koeln)). The following information are available:\n",
    "- *date*: date of the violation\n",
    "- *time*: time of the violation \n",
    "- *speed*: speed in km/h\n",
    "- *excess_speed*: speed above the allowed speed limit in km/h\n",
    "- *location_id*: identifier of the speed control location\n",
    "\n",
    "Additionally, we have a dataset with further information on the speed control, including:\n",
    "- *location_id*: identifier of the speed control location\n",
    "- *speed_limit*: speed limit in km/h\n",
    "- *district*: abbreviation for city district of speed control location\n",
    "- *street*: street name of speed control location\n",
    "\n",
    "Complete the following steps:\n",
    "1. Import pandas and load the speeding violations dataset (speeding_cgn_2018_08.csv). Is there missing data? How many violations were there in total during the selected period?\n",
    "2. Let's properly format the *date* and *time* columns. Combine them into one column and transform them to datetime format. Extract the hour and day of week, and add them as new columns to the dataframe. Hint: make sure that you specify the correct format when transforming to datetime.\n",
    "3. We want to add the information on the speed control locations contained in *control_locations.csv*. We only want to analyze those violations at control locations for which we have data in control_locations.csv. Load *control_locations.csv* and perform the appropriate merge, so that all relevant information are in one dataframe. Hint: think about the correct setting for the how-parameter in merge.\n",
    "4. Create two plots: first, show boxplots of the number of speeding violations by day of week. Second, show boxplots of the number of speeding violations by hour of day.\n",
    "\n",
    "Feel free to use your knowledge to conduct further analyses on the dataset!"
   ]
  },
  {
   "cell_type": "code",
   "execution_count": null,
   "metadata": {},
   "outputs": [],
   "source": [
    "# your code here\n"
   ]
  },
  {
   "cell_type": "markdown",
   "metadata": {},
   "source": [
    "## 3. Predicting electricity demand"
   ]
  },
  {
   "cell_type": "markdown",
   "metadata": {},
   "source": [
    "Last week, we used electricity load data from Pittsburgh to predict peak electricity demand based on temperature. Using the same dataset, put what you have learned together to predict average electricity demand (`AVG`) based on average temperature (`Avg_temp`) **for the summer months (June, July, August)**.\n",
    "\n",
    "More specifically, do the following:\n",
    "- Load and prepare the `df_summer` dataframe for analysis.\n",
    "- Fit a linear regression by using the `scikit-learn` library for average temperature and average demand data.\n",
    "- Plot the data and fitted line. Annotate your graph appropriately.\n",
    "- Present relevant test metrics to quantify the __training__ loss."
   ]
  },
  {
   "cell_type": "code",
   "execution_count": null,
   "metadata": {},
   "outputs": [],
   "source": [
    "# your code here\n"
   ]
  },
  {
   "cell_type": "markdown",
   "metadata": {},
   "source": [
    "## 4. Introduction to advanced regression"
   ]
  },
  {
   "cell_type": "markdown",
   "metadata": {},
   "source": [
    "This week, we will continue our regression journey and consider some more complex modeling techniques.\n",
    "\n",
    "Let's once again use the familiar tips dataset from Seaborn. Execute the following cell to load the dataset."
   ]
  },
  {
   "cell_type": "code",
   "execution_count": null,
   "metadata": {},
   "outputs": [],
   "source": [
    "import seaborn as sns\n",
    "import matplotlib.pyplot as plt\n",
    "import pandas as pd\n",
    "from sklearn.linear_model import LinearRegression\n",
    "\n",
    "tips = sns.load_dataset(\"tips\")\n",
    "tips.head()"
   ]
  },
  {
   "cell_type": "markdown",
   "metadata": {},
   "source": [
    "During the introductory task to linear regression, we manually constructed a regression line to predict the tip based on the total bill using the following simple linear model:\n",
    "\\begin{equation}\n",
    "\\mathrm{tip} \\approx \\theta_1 \\cdot \\mathrm{total\\_bill} + \\theta_2\n",
    "\\end{equation}\n",
    "where $\\theta_1$ is the slope of the line and $\\theta_2$ is the intercept term."
   ]
  },
  {
   "cell_type": "markdown",
   "metadata": {},
   "source": [
    "Implement the linear regression using scikit learn to find the optimal values for the parameters and plot the regression line on top of a scatter plot of the observed values."
   ]
  },
  {
   "cell_type": "code",
   "execution_count": null,
   "metadata": {},
   "outputs": [],
   "source": [
    "# your code here\n"
   ]
  },
  {
   "cell_type": "markdown",
   "metadata": {},
   "source": [
    "One obvious way to improve our predictions would be to add another feature. For example, are tips different when people eat for lunch compared to dinner? Add the `time` feature to your regression by doing the following:\n",
    "- Recode the `time` feature so that \"Lunch\" is 0 and \"Dinner\" is 1.\n",
    "- Define your feature matrix `X` to include both `total_bill` and `time_recoded`.\n",
    "- Re-run your linear regression.\n",
    "- Plot a scatter plot with the observed lunch tips and dinner tips in different colors, as well as the respective regression lines."
   ]
  },
  {
   "cell_type": "code",
   "execution_count": null,
   "metadata": {},
   "outputs": [],
   "source": [
    "# your code here\n"
   ]
  },
  {
   "cell_type": "markdown",
   "metadata": {},
   "source": [
    "What do you think? Is it useful to add this feature?"
   ]
  }
 ],
 "metadata": {
  "kernelspec": {
   "display_name": "DSML_env",
   "language": "python",
   "name": "python3"
  },
  "language_info": {
   "codemirror_mode": {
    "name": "ipython",
    "version": 3
   },
   "file_extension": ".py",
   "mimetype": "text/x-python",
   "name": "python",
   "nbconvert_exporter": "python",
   "pygments_lexer": "ipython3",
   "version": "3.12.2"
  }
 },
 "nbformat": 4,
 "nbformat_minor": 2
}
